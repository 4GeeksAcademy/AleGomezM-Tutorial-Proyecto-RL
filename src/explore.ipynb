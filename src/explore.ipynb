{
    "cells": [
        {
            "cell_type": "markdown",
            "metadata": {},
            "source": [
                "# Proyecto de Regresión Lineal"
            ]
        },
        {
            "cell_type": "code",
            "execution_count": 35,
            "metadata": {},
            "outputs": [],
            "source": [
                "# Importaciones necesarias\n",
                "import pandas as pd\n",
                "import matplotlib.pyplot as plt\n",
                "import numpy as np\n",
                "import seaborn as sns\n",
                "from scipy.stats import chi2_contingency\n",
                "from sklearn.model_selection import train_test_split\n",
                "import statsmodels.api as sm\n",
                "from statsmodels.stats.outliers_influence import variance_inflation_factor\n",
                "from sklearn.linear_model import LinearRegression\n",
                "from sklearn.preprocessing import StandardScaler\n",
                "from sklearn.metrics import *\n",
                "from sklearn.linear_model import Ridge, Lasso\n",
                "from sklearn.model_selection import GridSearchCV"
            ]
        },
        {
            "cell_type": "markdown",
            "metadata": {},
            "source": [
                "## Paso 1: Cargar el conjunto de datos"
            ]
        },
        {
            "cell_type": "code",
            "execution_count": 3,
            "metadata": {},
            "outputs": [
                {
                    "data": {
                        "text/html": [
                            "<div>\n",
                            "<style scoped>\n",
                            "    .dataframe tbody tr th:only-of-type {\n",
                            "        vertical-align: middle;\n",
                            "    }\n",
                            "\n",
                            "    .dataframe tbody tr th {\n",
                            "        vertical-align: top;\n",
                            "    }\n",
                            "\n",
                            "    .dataframe thead th {\n",
                            "        text-align: right;\n",
                            "    }\n",
                            "</style>\n",
                            "<table border=\"1\" class=\"dataframe\">\n",
                            "  <thead>\n",
                            "    <tr style=\"text-align: right;\">\n",
                            "      <th></th>\n",
                            "      <th>age</th>\n",
                            "      <th>sex</th>\n",
                            "      <th>bmi</th>\n",
                            "      <th>children</th>\n",
                            "      <th>smoker</th>\n",
                            "      <th>region</th>\n",
                            "      <th>charges</th>\n",
                            "    </tr>\n",
                            "  </thead>\n",
                            "  <tbody>\n",
                            "    <tr>\n",
                            "      <th>0</th>\n",
                            "      <td>19</td>\n",
                            "      <td>female</td>\n",
                            "      <td>27.900</td>\n",
                            "      <td>0</td>\n",
                            "      <td>yes</td>\n",
                            "      <td>southwest</td>\n",
                            "      <td>16884.92400</td>\n",
                            "    </tr>\n",
                            "    <tr>\n",
                            "      <th>1</th>\n",
                            "      <td>18</td>\n",
                            "      <td>male</td>\n",
                            "      <td>33.770</td>\n",
                            "      <td>1</td>\n",
                            "      <td>no</td>\n",
                            "      <td>southeast</td>\n",
                            "      <td>1725.55230</td>\n",
                            "    </tr>\n",
                            "    <tr>\n",
                            "      <th>2</th>\n",
                            "      <td>28</td>\n",
                            "      <td>male</td>\n",
                            "      <td>33.000</td>\n",
                            "      <td>3</td>\n",
                            "      <td>no</td>\n",
                            "      <td>southeast</td>\n",
                            "      <td>4449.46200</td>\n",
                            "    </tr>\n",
                            "    <tr>\n",
                            "      <th>3</th>\n",
                            "      <td>33</td>\n",
                            "      <td>male</td>\n",
                            "      <td>22.705</td>\n",
                            "      <td>0</td>\n",
                            "      <td>no</td>\n",
                            "      <td>northwest</td>\n",
                            "      <td>21984.47061</td>\n",
                            "    </tr>\n",
                            "    <tr>\n",
                            "      <th>4</th>\n",
                            "      <td>32</td>\n",
                            "      <td>male</td>\n",
                            "      <td>28.880</td>\n",
                            "      <td>0</td>\n",
                            "      <td>no</td>\n",
                            "      <td>northwest</td>\n",
                            "      <td>3866.85520</td>\n",
                            "    </tr>\n",
                            "  </tbody>\n",
                            "</table>\n",
                            "</div>"
                        ],
                        "text/plain": [
                            "   age     sex     bmi  children smoker     region      charges\n",
                            "0   19  female  27.900         0    yes  southwest  16884.92400\n",
                            "1   18    male  33.770         1     no  southeast   1725.55230\n",
                            "2   28    male  33.000         3     no  southeast   4449.46200\n",
                            "3   33    male  22.705         0     no  northwest  21984.47061\n",
                            "4   32    male  28.880         0     no  northwest   3866.85520"
                        ]
                    },
                    "execution_count": 3,
                    "metadata": {},
                    "output_type": "execute_result"
                }
            ],
            "source": [
                "url = \"https://raw.githubusercontent.com/4GeeksAcademy/linear-regression-project-tutorial/main/medical_insurance_cost.csv\"\n",
                "df = pd.read_csv(url)\n",
                "df.head()"
            ]
        },
        {
            "cell_type": "markdown",
            "metadata": {},
            "source": [
                "## Paso 2: Realizar un EDA completo"
            ]
        },
        {
            "cell_type": "code",
            "execution_count": 4,
            "metadata": {},
            "outputs": [
                {
                    "name": "stdout",
                    "output_type": "stream",
                    "text": [
                        "<class 'pandas.core.frame.DataFrame'>\n",
                        "RangeIndex: 1338 entries, 0 to 1337\n",
                        "Data columns (total 7 columns):\n",
                        " #   Column    Non-Null Count  Dtype  \n",
                        "---  ------    --------------  -----  \n",
                        " 0   age       1338 non-null   int64  \n",
                        " 1   sex       1338 non-null   object \n",
                        " 2   bmi       1338 non-null   float64\n",
                        " 3   children  1338 non-null   int64  \n",
                        " 4   smoker    1338 non-null   object \n",
                        " 5   region    1338 non-null   object \n",
                        " 6   charges   1338 non-null   float64\n",
                        "dtypes: float64(2), int64(2), object(3)\n",
                        "memory usage: 73.3+ KB\n"
                    ]
                }
            ],
            "source": [
                "df.info()"
            ]
        },
        {
            "cell_type": "code",
            "execution_count": 5,
            "metadata": {},
            "outputs": [
                {
                    "data": {
                        "text/plain": [
                            "1"
                        ]
                    },
                    "execution_count": 5,
                    "metadata": {},
                    "output_type": "execute_result"
                }
            ],
            "source": [
                "df.duplicated().sum() # Comprobar la presencia de filas duplicadas"
            ]
        },
        {
            "cell_type": "code",
            "execution_count": 6,
            "metadata": {},
            "outputs": [
                {
                    "data": {
                        "text/plain": [
                            "(1337, 7)"
                        ]
                    },
                    "execution_count": 6,
                    "metadata": {},
                    "output_type": "execute_result"
                }
            ],
            "source": [
                "df.drop_duplicates(inplace=True) # Eliminar filas duplicadas\n",
                "df.shape"
            ]
        },
        {
            "cell_type": "code",
            "execution_count": 7,
            "metadata": {},
            "outputs": [
                {
                    "data": {
                        "text/plain": [
                            "age         0\n",
                            "sex         0\n",
                            "bmi         0\n",
                            "children    0\n",
                            "smoker      0\n",
                            "region      0\n",
                            "charges     0\n",
                            "dtype: int64"
                        ]
                    },
                    "execution_count": 7,
                    "metadata": {},
                    "output_type": "execute_result"
                }
            ],
            "source": [
                "df.isnull().sum() # Valores nulos "
            ]
        },
        {
            "cell_type": "code",
            "execution_count": 8,
            "metadata": {},
            "outputs": [
                {
                    "data": {
                        "text/plain": [
                            "age           47\n",
                            "sex            2\n",
                            "bmi          548\n",
                            "children       6\n",
                            "smoker         2\n",
                            "region         4\n",
                            "charges     1337\n",
                            "dtype: int64"
                        ]
                    },
                    "execution_count": 8,
                    "metadata": {},
                    "output_type": "execute_result"
                }
            ],
            "source": [
                "df.nunique() # Valores unicos por columna"
            ]
        },
        {
            "cell_type": "code",
            "execution_count": 9,
            "metadata": {},
            "outputs": [
                {
                    "data": {
                        "image/png": "[encoded data removed]",
                        "text/plain": [
                            "<Figure size 1000x800 with 3 Axes>"
                        ]
                    },
                    "metadata": {},
                    "output_type": "display_data"
                }
            ],
            "source": [
                "# Seleccionamos columnas categóricas\n",
                "categorical_cols = df.select_dtypes(include='object').columns\n",
                "\n",
                "# Configuramos número de filas y columnas para subplots\n",
                "n_cols = 2\n",
                "n_rows = 2\n",
                "\n",
                "# Creamos la figura\n",
                "fig, axes = plt.subplots(n_rows, n_cols, figsize=(5 * n_cols, 4 * n_rows))\n",
                "axes = axes.flatten()\n",
                "\n",
                "# Generamos cada gráfica en su subplot\n",
                "for i, col in enumerate(categorical_cols):\n",
                "    df[col].value_counts().plot(kind='bar', ax=axes[i])\n",
                "    axes[i].set_title(f'Distribución de {col}')\n",
                "    axes[i].tick_params(axis='x', rotation=45)\n",
                "\n",
                "# Eliminamos ejes vacíos si sobran\n",
                "for j in range(i + 1, len(axes)):\n",
                "    fig.delaxes(axes[j])\n",
                "\n",
                "plt.tight_layout()\n",
                "plt.show()"
            ]
        },
        {
            "cell_type": "code",
            "execution_count": 10,
            "metadata": {},
            "outputs": [
                {
                    "name": "stdout",
                    "output_type": "stream",
                    "text": [
                        "Cramér's V entre 'sex' y 'charges': 0.0736990090060492\n",
                        "Cramér's V entre 'smoker' y 'charges': 0.7953915761154823\n",
                        "Cramér's V entre 'region' y 'charges': 0.05527552343334852\n"
                    ]
                }
            ],
            "source": [
                "# Relacion de las variables categoricas con la variable objetivo\n",
                "def cramers_v(x, y):\n",
                "    confusion_matrix = pd.crosstab(x, y)\n",
                "    if confusion_matrix.shape[0] < 2 or confusion_matrix.shape[1] < 2:\n",
                "        return np.nan  # No tiene sentido calcularlo si solo hay una fila o columna\n",
                "\n",
                "    chi2 = chi2_contingency(confusion_matrix)[0]\n",
                "    n = confusion_matrix.sum().sum()\n",
                "    phi2 = chi2 / n\n",
                "    r, k = confusion_matrix.shape\n",
                "    phi2corr = max(0, phi2 - ((k-1)*(r-1))/(n-1))\n",
                "    rcorr = r - ((r-1)**2)/(n-1)\n",
                "    kcorr = k - ((k-1)**2)/(n-1)\n",
                "    return np.sqrt(phi2corr / min((kcorr - 1), (rcorr - 1)))\n",
                "\n",
                "# Aplicación a todas las combinaciones de variables categóricas\n",
                "categorical = ['sex', 'smoker', 'region']  # tus variables categóricas\n",
                "\n",
                "for col in categorical:\n",
                "    print(f\"Cramér's V entre '{col}' y 'charges': {cramers_v(df[col], pd.qcut(df['charges'], q=4))}\")\n"
            ]
        },
        {
            "cell_type": "markdown",
            "metadata": {},
            "source": [
                "**Observacion:** Se puede notar que las variables sex y region tienen muy baja relacion, sobre todo region, vamos a eliminar esa ultima."
            ]
        },
        {
            "cell_type": "code",
            "execution_count": 11,
            "metadata": {},
            "outputs": [],
            "source": [
                "df.drop('region', axis=1, inplace=True)"
            ]
        },
        {
            "cell_type": "markdown",
            "metadata": {},
            "source": [
                "### Codificacion de variables categoricas"
            ]
        },
        {
            "cell_type": "code",
            "execution_count": 12,
            "metadata": {},
            "outputs": [],
            "source": [
                "# Codificación binaria directa\n",
                "df[\"sex\"] = df[\"sex\"].map({\"female\": 0, \"male\": 1})\n",
                "df[\"smoker\"] = df[\"smoker\"].map({\"no\": 0, \"yes\": 1})"
            ]
        },
        {
            "cell_type": "code",
            "execution_count": 13,
            "metadata": {},
            "outputs": [
                {
                    "data": {
                        "text/plain": [
                            "age           int64\n",
                            "sex           int64\n",
                            "bmi         float64\n",
                            "children      int64\n",
                            "smoker        int64\n",
                            "charges     float64\n",
                            "dtype: object"
                        ]
                    },
                    "execution_count": 13,
                    "metadata": {},
                    "output_type": "execute_result"
                }
            ],
            "source": [
                "# Validamos que no queden columnas tipo objet\n",
                "df.dtypes"
            ]
        },
        {
            "cell_type": "markdown",
            "metadata": {},
            "source": [
                "### Distribución de variables numericas"
            ]
        },
        {
            "cell_type": "code",
            "execution_count": 14,
            "metadata": {},
            "outputs": [
                {
                    "data": {
                        "text/html": [
                            "<div>\n",
                            "<style scoped>\n",
                            "    .dataframe tbody tr th:only-of-type {\n",
                            "        vertical-align: middle;\n",
                            "    }\n",
                            "\n",
                            "    .dataframe tbody tr th {\n",
                            "        vertical-align: top;\n",
                            "    }\n",
                            "\n",
                            "    .dataframe thead th {\n",
                            "        text-align: right;\n",
                            "    }\n",
                            "</style>\n",
                            "<table border=\"1\" class=\"dataframe\">\n",
                            "  <thead>\n",
                            "    <tr style=\"text-align: right;\">\n",
                            "      <th></th>\n",
                            "      <th>count</th>\n",
                            "      <th>mean</th>\n",
                            "      <th>std</th>\n",
                            "      <th>min</th>\n",
                            "      <th>25%</th>\n",
                            "      <th>50%</th>\n",
                            "      <th>75%</th>\n",
                            "      <th>max</th>\n",
                            "    </tr>\n",
                            "  </thead>\n",
                            "  <tbody>\n",
                            "    <tr>\n",
                            "      <th>age</th>\n",
                            "      <td>1337.0</td>\n",
                            "      <td>39.222139</td>\n",
                            "      <td>14.044333</td>\n",
                            "      <td>18.0000</td>\n",
                            "      <td>27.000</td>\n",
                            "      <td>39.0000</td>\n",
                            "      <td>51.00000</td>\n",
                            "      <td>64.00000</td>\n",
                            "    </tr>\n",
                            "    <tr>\n",
                            "      <th>sex</th>\n",
                            "      <td>1337.0</td>\n",
                            "      <td>0.504862</td>\n",
                            "      <td>0.500163</td>\n",
                            "      <td>0.0000</td>\n",
                            "      <td>0.000</td>\n",
                            "      <td>1.0000</td>\n",
                            "      <td>1.00000</td>\n",
                            "      <td>1.00000</td>\n",
                            "    </tr>\n",
                            "    <tr>\n",
                            "      <th>bmi</th>\n",
                            "      <td>1337.0</td>\n",
                            "      <td>30.663452</td>\n",
                            "      <td>6.100468</td>\n",
                            "      <td>15.9600</td>\n",
                            "      <td>26.290</td>\n",
                            "      <td>30.4000</td>\n",
                            "      <td>34.70000</td>\n",
                            "      <td>53.13000</td>\n",
                            "    </tr>\n",
                            "    <tr>\n",
                            "      <th>children</th>\n",
                            "      <td>1337.0</td>\n",
                            "      <td>1.095737</td>\n",
                            "      <td>1.205571</td>\n",
                            "      <td>0.0000</td>\n",
                            "      <td>0.000</td>\n",
                            "      <td>1.0000</td>\n",
                            "      <td>2.00000</td>\n",
                            "      <td>5.00000</td>\n",
                            "    </tr>\n",
                            "    <tr>\n",
                            "      <th>smoker</th>\n",
                            "      <td>1337.0</td>\n",
                            "      <td>0.204936</td>\n",
                            "      <td>0.403806</td>\n",
                            "      <td>0.0000</td>\n",
                            "      <td>0.000</td>\n",
                            "      <td>0.0000</td>\n",
                            "      <td>0.00000</td>\n",
                            "      <td>1.00000</td>\n",
                            "    </tr>\n",
                            "    <tr>\n",
                            "      <th>charges</th>\n",
                            "      <td>1337.0</td>\n",
                            "      <td>13279.121487</td>\n",
                            "      <td>12110.359656</td>\n",
                            "      <td>1121.8739</td>\n",
                            "      <td>4746.344</td>\n",
                            "      <td>9386.1613</td>\n",
                            "      <td>16657.71745</td>\n",
                            "      <td>63770.42801</td>\n",
                            "    </tr>\n",
                            "  </tbody>\n",
                            "</table>\n",
                            "</div>"
                        ],
                        "text/plain": [
                            "           count          mean           std        min       25%        50%  \\\n",
                            "age       1337.0     39.222139     14.044333    18.0000    27.000    39.0000   \n",
                            "sex       1337.0      0.504862      0.500163     0.0000     0.000     1.0000   \n",
                            "bmi       1337.0     30.663452      6.100468    15.9600    26.290    30.4000   \n",
                            "children  1337.0      1.095737      1.205571     0.0000     0.000     1.0000   \n",
                            "smoker    1337.0      0.204936      0.403806     0.0000     0.000     0.0000   \n",
                            "charges   1337.0  13279.121487  12110.359656  1121.8739  4746.344  9386.1613   \n",
                            "\n",
                            "                  75%          max  \n",
                            "age          51.00000     64.00000  \n",
                            "sex           1.00000      1.00000  \n",
                            "bmi          34.70000     53.13000  \n",
                            "children      2.00000      5.00000  \n",
                            "smoker        0.00000      1.00000  \n",
                            "charges   16657.71745  63770.42801  "
                        ]
                    },
                    "execution_count": 14,
                    "metadata": {},
                    "output_type": "execute_result"
                }
            ],
            "source": [
                "df.describe().T # Estadistica descrptiva para las columnas numericas"
            ]
        },
        {
            "cell_type": "code",
            "execution_count": 15,
            "metadata": {},
            "outputs": [
                {
                    "data": {
                        "image/png": "[encoded data removed]",
                        "text/plain": [
                            "<Figure size 1200x600 with 1 Axes>"
                        ]
                    },
                    "metadata": {},
                    "output_type": "display_data"
                }
            ],
            "source": [
                "# Variables numéricas \n",
                "num_cols = df.select_dtypes(include=['int64', 'float64']).columns\n",
                "\n",
                "# Convertir a formato largo (tidy) es decir de un dataframe a solo dos columnas\n",
                "df_long = df[num_cols].melt(var_name='variable', value_name='valor')\n",
                "\n",
                "# Boxplot horizontal con seaborn\n",
                "plt.figure(figsize=(12, 6))\n",
                "sns.boxplot(data=df_long, y='variable', x='valor', orient='h')\n",
                "plt.title('Diagramas de caja por variable numérica')\n",
                "plt.xlabel('Valor')\n",
                "plt.ylabel('Variable')\n",
                "plt.tight_layout()\n",
                "plt.show()"
            ]
        },
        {
            "cell_type": "markdown",
            "metadata": {},
            "source": [
                "### Partición de datos"
            ]
        },
        {
            "cell_type": "code",
            "execution_count": 16,
            "metadata": {},
            "outputs": [
                {
                    "data": {
                        "text/plain": [
                            "(1069, 5)"
                        ]
                    },
                    "execution_count": 16,
                    "metadata": {},
                    "output_type": "execute_result"
                }
            ],
            "source": [
                "X = df.drop(['charges'],axis=1)\n",
                "y = df['charges']\n",
                "X_train, X_test, y_train, y_test = train_test_split(X, y, test_size=0.2, random_state=42)\n",
                "X_train.shape"
            ]
        },
        {
            "cell_type": "markdown",
            "metadata": {},
            "source": [
                "### Observación de influyentes"
            ]
        },
        {
            "cell_type": "code",
            "execution_count": 22,
            "metadata": {},
            "outputs": [],
            "source": [
                "# Ajustar el modelo\n",
                "X_train_const = sm.add_constant(X_train)\n",
                "model = sm.OLS(y_train, X_train_const).fit()\n",
                "\n",
                "# Instancia de la influencia y obtención de la distancia de cook para cada observación\n",
                "cooks_distance = model.get_influence().cooks_distance"
            ]
        },
        {
            "cell_type": "code",
            "execution_count": 23,
            "metadata": {},
            "outputs": [
                {
                    "data": {
                        "image/png": "[encoded data removed]",
                        "text/plain": [
                            "<Figure size 640x480 with 1 Axes>"
                        ]
                    },
                    "metadata": {},
                    "output_type": "display_data"
                }
            ],
            "source": [
                "plt.scatter(y_train, cooks_distance[0])\n",
                "plt.xlabel('x')\n",
                "plt.ylabel('Distancia de Cooks')\n",
                "plt.show()"
            ]
        },
        {
            "cell_type": "markdown",
            "metadata": {},
            "source": [
                "**Observaciones:**\n",
                "- No hay muchas observaciones influyentes en el dataset\n",
                "- Los datos están bastante estables, y no hay outliers que pudiera afectar los coeficientes de regresión logística, notando que los valores estan muy cercanos a 0. "
            ]
        },
        {
            "cell_type": "markdown",
            "metadata": {},
            "source": [
                "### Selección de características"
            ]
        },
        {
            "cell_type": "code",
            "execution_count": 24,
            "metadata": {},
            "outputs": [
                {
                    "data": {
                        "text/html": [
                            "<div>\n",
                            "<style scoped>\n",
                            "    .dataframe tbody tr th:only-of-type {\n",
                            "        vertical-align: middle;\n",
                            "    }\n",
                            "\n",
                            "    .dataframe tbody tr th {\n",
                            "        vertical-align: top;\n",
                            "    }\n",
                            "\n",
                            "    .dataframe thead th {\n",
                            "        text-align: right;\n",
                            "    }\n",
                            "</style>\n",
                            "<table border=\"1\" class=\"dataframe\">\n",
                            "  <thead>\n",
                            "    <tr style=\"text-align: right;\">\n",
                            "      <th></th>\n",
                            "      <th>Feature</th>\n",
                            "      <th>Importancia</th>\n",
                            "    </tr>\n",
                            "  </thead>\n",
                            "  <tbody>\n",
                            "    <tr>\n",
                            "      <th>4</th>\n",
                            "      <td>smoker</td>\n",
                            "      <td>2.305137e+06</td>\n",
                            "    </tr>\n",
                            "    <tr>\n",
                            "      <th>3</th>\n",
                            "      <td>children</td>\n",
                            "      <td>5.379634e+04</td>\n",
                            "    </tr>\n",
                            "    <tr>\n",
                            "      <th>2</th>\n",
                            "      <td>bmi</td>\n",
                            "      <td>3.055965e+04</td>\n",
                            "    </tr>\n",
                            "    <tr>\n",
                            "      <th>0</th>\n",
                            "      <td>age</td>\n",
                            "      <td>2.490952e+04</td>\n",
                            "    </tr>\n",
                            "    <tr>\n",
                            "      <th>1</th>\n",
                            "      <td>sex</td>\n",
                            "      <td>8.502704e+03</td>\n",
                            "    </tr>\n",
                            "  </tbody>\n",
                            "</table>\n",
                            "</div>"
                        ],
                        "text/plain": [
                            "    Feature   Importancia\n",
                            "4    smoker  2.305137e+06\n",
                            "3  children  5.379634e+04\n",
                            "2       bmi  3.055965e+04\n",
                            "0       age  2.490952e+04\n",
                            "1       sex  8.502704e+03"
                        ]
                    },
                    "execution_count": 24,
                    "metadata": {},
                    "output_type": "execute_result"
                }
            ],
            "source": [
                "# Añadimos constante para el intercepto\n",
                "X_train_const = sm.add_constant(X_train)\n",
                "\n",
                "# Entrenamos el modelo OLS de regresión lineal\n",
                "model = sm.OLS(y_train, X_train_const).fit()\n",
                "\n",
                "# Extraemos parámetros excepto el intercepto\n",
                "coefs = model.params.drop('const')\n",
                "\n",
                "# Creamos DataFrame con importancia (valor absoluto multiplicado por 100 para escala)\n",
                "dict_data = {\n",
                "    'Feature': coefs.index,\n",
                "    'Importancia': np.abs(coefs.values) * 100\n",
                "}\n",
                "df_imp = pd.DataFrame(dict_data)\n",
                "\n",
                "# Ordenamos por importancia descendente\n",
                "df_imp.sort_values(by='Importancia', ascending=False, inplace=True)\n",
                "\n",
                "df_imp"
            ]
        },
        {
            "cell_type": "markdown",
            "metadata": {},
            "source": [
                "**Observacion:** Se identifica que las variables mas importantes son si es fumador y si tiene hijos, las menos importantes, la edad y sexo en ese orden."
            ]
        },
        {
            "cell_type": "code",
            "execution_count": 26,
            "metadata": {},
            "outputs": [
                {
                    "name": "stdout",
                    "output_type": "stream",
                    "text": [
                        "age         1.021012\n",
                        "sex         1.009939\n",
                        "bmi         1.017674\n",
                        "children    1.003694\n",
                        "smoker      1.009191\n",
                        "dtype: float64\n"
                    ]
                }
            ],
            "source": [
                "# Calcular VIF para cada variable \n",
                "vif = pd.Series(\n",
                "    [variance_inflation_factor(X_train_const.values, i) \n",
                "     for i in range(1, X_train_const.shape[1])],  # Empieza en 1 para saltar la constante\n",
                "    index=X_train.columns\n",
                ")\n",
                "\n",
                "print(vif)"
            ]
        },
        {
            "cell_type": "markdown",
            "metadata": {},
            "source": [
                "**Observacion:** Todas las variables tienen Valores de VIF cerca de 1, por lo que no hay correlación lineal entre \n",
                "ellas.  \n",
                "Ya que no es necesario escalar las variables vamos a continuar con la construccion del modelo."
            ]
        },
        {
            "cell_type": "markdown",
            "metadata": {},
            "source": [
                "## Paso 3: Construir un modelo de regresión lineal"
            ]
        },
        {
            "cell_type": "code",
            "execution_count": 46,
            "metadata": {},
            "outputs": [
                {
                    "name": "stdout",
                    "output_type": "stream",
                    "text": [
                        "Train Lineal MSE: 37072507.17\n",
                        "Train Lineal R2: 0.73\n",
                        "Test Lineal MSE: 35901914.11\n",
                        "Test Lineal R2: 0.80\n"
                    ]
                }
            ],
            "source": [
                "model = LinearRegression() # Creamos el modelo\n",
                "model.fit(X_train, y_train) # Entrenamos el modelo con los datos de entrenamiento\n",
                "\n",
                "#  Hacemos predicciones sobre train y test\n",
                "y_train_pred = model.predict(X_train)\n",
                "y_test_pred = model.predict(X_test)\n",
                "\n",
                "# Evaluamos el desempeño en train y test\n",
                "mse_train = mean_squared_error(y_train, y_train_pred)\n",
                "r2_train = r2_score(y_train, y_train_pred)\n",
                "mse_test = mean_squared_error(y_test, y_test_pred)\n",
                "r2_test = r2_score(y_test, y_test_pred)\n",
                "\n",
                "print(f\"Train Lineal MSE: {mse_train:.2f}\")\n",
                "print(f\"Train Lineal R2: {r2_train:.2f}\")\n",
                "print(f\"Test Lineal MSE: {mse_test:.2f}\")\n",
                "print(f\"Test Lineal R2: {r2_test:.2f}\")"
            ]
        },
        {
            "cell_type": "markdown",
            "metadata": {},
            "source": [
                "**Observaciones:** \n",
                "- Basado en el R cuadrado el modelo explica bastante bien los datos de entrenamiento y asombrosamente mucho mejor los de test, lo cual nos da tambien idea de que no esta sobreajustando.\n",
                "- El error cuadrático medio es alto, pero tambien se debe tener en cuenta que esta en los terminos de la variable objetivo la cual esta en decenas y cientos de miles, por lo que tambien es un buen resultado."
            ]
        },
        {
            "cell_type": "code",
            "execution_count": 30,
            "metadata": {},
            "outputs": [
                {
                    "name": "stdout",
                    "output_type": "stream",
                    "text": [
                        "    Feature   Coefficient\n",
                        "4    smoker  23051.368124\n",
                        "3  children    537.963367\n",
                        "2       bmi    305.596495\n",
                        "0       age    249.095218\n",
                        "1       sex    -85.027041\n"
                    ]
                }
            ],
            "source": [
                "# Validamos los coeficientes del modelo\n",
                "coef_df = pd.DataFrame({\n",
                "    'Feature': X_train.columns,\n",
                "    'Coefficient': model.coef_\n",
                "}).sort_values(by='Coefficient', key=abs, ascending=False)\n",
                "\n",
                "print(coef_df)"
            ]
        },
        {
            "cell_type": "markdown",
            "metadata": {},
            "source": [
                "## Paso 4: Optimiza el modelo anterior"
            ]
        },
        {
            "cell_type": "code",
            "execution_count": 32,
            "metadata": {},
            "outputs": [],
            "source": [
                "# Vamos a iniciar estandarizando las variables\n",
                "scaler = StandardScaler() # Se crea el escalador\n",
                "X_train_scaled = scaler.fit_transform(X_train) # Se aplica a train\n",
                "X_test_scaled = scaler.transform(X_test) # Se aplica a test"
            ]
        },
        {
            "cell_type": "code",
            "execution_count": 42,
            "metadata": {},
            "outputs": [
                {
                    "name": "stdout",
                    "output_type": "stream",
                    "text": [
                        "Mejor alpha para Ridge: {'alpha': 10}\n",
                        "Mejor score CV para Ridge: 0.7257193383809117\n"
                    ]
                }
            ],
            "source": [
                "# Modelo mejorado con Rigde\n",
                "ridge = Ridge() \n",
                "\n",
                "param_grid = {'alpha': [0.01, 0.1, 1, 10, 100]}  # Probamos varios valores para alpha\n",
                "\n",
                "grid_ridge = GridSearchCV(ridge, param_grid, cv=5, scoring='r2', n_jobs=-1)\n",
                "grid_ridge.fit(X_train_scaled, y_train)\n",
                "\n",
                "print(\"Mejor alpha para Ridge:\", grid_ridge.best_params_)\n",
                "print(\"Mejor score CV para Ridge:\", grid_ridge.best_score_)\n",
                "\n",
                "# Evaluar en test\n",
                "y_pred_ridge = grid_ridge.predict(X_test_scaled)\n",
                "y_train_pred_ridge = grid_ridge.predict(X_train_scaled)"
            ]
        },
        {
            "cell_type": "code",
            "execution_count": 43,
            "metadata": {},
            "outputs": [
                {
                    "name": "stdout",
                    "output_type": "stream",
                    "text": [
                        "Mejor alpha para Lasso: {'alpha': 1}\n",
                        "Mejor score CV para Lasso: 0.7256227000836875\n"
                    ]
                }
            ],
            "source": [
                "# Modelo mejorado con Lasso\n",
                "lasso = Lasso(max_iter=10000)  # max_iter alto para el mejor caso\n",
                "\n",
                "param_grid = {'alpha': [0.0001, 0.001, 0.01, 0.1, 1]}  # Valores para alpha\n",
                "\n",
                "grid_lasso = GridSearchCV(lasso, param_grid, cv=5, scoring='r2', n_jobs=-1)\n",
                "grid_lasso.fit(X_train_scaled, y_train)\n",
                "\n",
                "print(\"Mejor alpha para Lasso:\", grid_lasso.best_params_)\n",
                "print(\"Mejor score CV para Lasso:\", grid_lasso.best_score_)\n",
                "\n",
                "# Evaluar en test\n",
                "y_pred_lasso = grid_lasso.predict(X_test_scaled)\n",
                "y_train_pred_lasso = grid_lasso.predict(X_train_scaled)"
            ]
        },
        {
            "cell_type": "code",
            "execution_count": 48,
            "metadata": {},
            "outputs": [
                {
                    "name": "stdout",
                    "output_type": "stream",
                    "text": [
                        "Test Lineal R2: 0.80\n",
                        "Test Lineal MSE: 35901914.11\n",
                        "Train Lineal R2: 0.73\n",
                        "Train Lineal MSE: 37072507.17\n",
                        "Ridge Test R2: 0.8027836804244679\n",
                        "Ridge Test MSE: 36239694.6498714\n",
                        "Ridge Train R2: 0.7291644772119317\n",
                        "Ridge Train MSE: 37081356.25928166\n",
                        "Lasso Test R2: 0.8045947642716651\n",
                        "Lasso Test MSE: 35906897.01046203\n",
                        "Lasso Train R2: 0.729229073082048\n",
                        "Lasso Train MSE: 37072512.13703356\n"
                    ]
                }
            ],
            "source": [
                "# Metricas de regresion lineal\n",
                "print(f\"Test Lineal R2: {r2_test:.2f}\")\n",
                "print(f\"Test Lineal MSE: {mse_test:.2f}\")\n",
                "print(f\"Train Lineal R2: {r2_train:.2f}\")\n",
                "print(f\"Train Lineal MSE: {mse_train:.2f}\")\n",
                "\n",
                "# Métricas para Ridge\n",
                "print(\"Ridge Test R2:\", r2_score(y_test, y_pred_ridge))\n",
                "print(\"Ridge Test MSE:\", mean_squared_error(y_test, y_pred_ridge))\n",
                "print(\"Ridge Train R2:\", r2_score(y_train, y_train_pred_ridge))\n",
                "print(\"Ridge Train MSE:\", mean_squared_error(y_train, y_train_pred_ridge))\n",
                "\n",
                "# Métricas en train para Lasso\n",
                "print(\"Lasso Test R2:\", r2_score(y_test, y_pred_lasso))\n",
                "print(\"Lasso Test MSE:\", mean_squared_error(y_test, y_pred_lasso))\n",
                "print(\"Lasso Train R2:\", r2_score(y_train, y_train_pred_lasso))\n",
                "print(\"Lasso Train MSE:\", mean_squared_error(y_train, y_train_pred_lasso))"
            ]
        },
        {
            "cell_type": "markdown",
            "metadata": {},
            "source": [
                "**Conclusion de las metricas:**  \n",
                "- R cuadrado esta cerca de 0.73 en train y 0.80 en test para todos los modelos, lo cual es bastante bueno pero no se ha obtenido mejora con los nuevos modelos.\n",
                "\n",
                "- MSE son muy similares entre los modelos, con valores de error alrededor de 35000 para test y 37000 para train, lo cual indica que el error promedio se encuentra en ese rango.  \n",
                "\n",
                "- Pareciera no haber una mejora significativa, lo que quiere decir que el modelo de regresion lineal es bastante bueno para predecir este comportamiento de seguros y no es necesario otros modelos de regresion mas complejos, sim enbargo podria probarse con modelos de arboles u otros modelos para tener mejores resultados."
            ]
        },
        {
            "cell_type": "code",
            "execution_count": 52,
            "metadata": {},
            "outputs": [
                {
                    "name": "stdout",
                    "output_type": "stream",
                    "text": [
                        "Coeficientes Regresion lineal:\n",
                        "    Feature   Coefficient\n",
                        "4    smoker  23051.368124\n",
                        "3  children    537.963367\n",
                        "2       bmi    305.596495\n",
                        "0       age    249.095218\n",
                        "1       sex    -85.027041\n",
                        "\n",
                        "Coeficientes Ridge:\n",
                        "age: 3451.848171509776\n",
                        "sex: -35.18340758838798\n",
                        "bmi: 1833.43329407062\n",
                        "children: 639.9262871454576\n",
                        "smoker: 9136.13460471038\n",
                        "\n",
                        "Coeficientes Lasso:\n",
                        "age: 3484.5117240618147\n",
                        "sex: -41.386196697182406\n",
                        "bmi: 1847.5926004142102\n",
                        "children: 641.486994281425\n",
                        "smoker: 9222.651398968812\n"
                    ]
                }
            ],
            "source": [
                "# Cieficientes de regresion lineal\n",
                "print(\"Coeficientes Regresion lineal:\")\n",
                "print(coef_df)\n",
                "\n",
                "# Coeficientes de Ridge\n",
                "coef_ridge = grid_ridge.best_estimator_.coef_\n",
                "print(\"\\nCoeficientes Ridge:\")\n",
                "for feature, coef in zip(X_train.columns, coef_ridge):\n",
                "    print(f\"{feature}: {coef}\")\n",
                "\n",
                "# Coeficientes de Lasso\n",
                "coef_lasso = grid_lasso.best_estimator_.coef_\n",
                "print(\"\\nCoeficientes Lasso:\")\n",
                "for feature, coef in zip(X_train.columns, coef_lasso):\n",
                "    print(f\"{feature}: {coef}\")"
            ]
        },
        {
            "cell_type": "markdown",
            "metadata": {},
            "source": [
                "**Conclusiones adicionales:**\n",
                "- Los coeficientes de lasso y Rigde distan un poco del modelo de regresion lineal, ya que posiblemente penalizan la variable mas importante (smoker), sin emabrgo tienen un desempeño similar.\n",
                "- A pesar de los cambios magnitud entre ellos, todos los modelos concuerdan en la relacion de las variables independientes con la variable objetivo, por ejemplo smoker es la mas importante y sex es inversamente proporcional."
            ]
        }
    ],
    "metadata": {
        "kernelspec": {
            "display_name": "Python 3",
            "language": "python",
            "name": "python3"
        },
        "language_info": {
            "codemirror_mode": {
                "name": "ipython",
                "version": 3
            },
            "file_extension": ".py",
            "mimetype": "text/x-python",
            "name": "python",
            "nbconvert_exporter": "python",
            "pygments_lexer": "ipython3",
            "version": "3.11.4"
        },
        "orig_nbformat": 4
    },
    "nbformat": 4,
    "nbformat_minor": 2
}
